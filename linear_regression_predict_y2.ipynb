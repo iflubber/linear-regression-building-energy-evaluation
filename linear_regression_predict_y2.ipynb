{
 "cells": [
  {
   "cell_type": "code",
   "execution_count": 241,
   "metadata": {},
   "outputs": [],
   "source": [
    "import pandas as pd\n",
    "import matplotlib.pyplot as plt\n",
    "import numpy as np\n",
    "import seaborn as sns\n",
    "%matplotlib inline"
   ]
  },
  {
   "cell_type": "code",
   "execution_count": 242,
   "metadata": {},
   "outputs": [
    {
     "data": {
      "text/plain": [
       "(768, 10)"
      ]
     },
     "execution_count": 242,
     "metadata": {},
     "output_type": "execute_result"
    }
   ],
   "source": [
    "data = pd.read_csv('ENB2012_data.csv')\n",
    "data.shape"
   ]
  },
  {
   "cell_type": "code",
   "execution_count": 243,
   "metadata": {},
   "outputs": [
    {
     "data": {
      "text/html": [
       "<div>\n",
       "<style scoped>\n",
       "    .dataframe tbody tr th:only-of-type {\n",
       "        vertical-align: middle;\n",
       "    }\n",
       "\n",
       "    .dataframe tbody tr th {\n",
       "        vertical-align: top;\n",
       "    }\n",
       "\n",
       "    .dataframe thead th {\n",
       "        text-align: right;\n",
       "    }\n",
       "</style>\n",
       "<table border=\"1\" class=\"dataframe\">\n",
       "  <thead>\n",
       "    <tr style=\"text-align: right;\">\n",
       "      <th></th>\n",
       "      <th>X1</th>\n",
       "      <th>X2</th>\n",
       "      <th>X3</th>\n",
       "      <th>X4</th>\n",
       "      <th>X5</th>\n",
       "      <th>X6</th>\n",
       "      <th>X7</th>\n",
       "      <th>X8</th>\n",
       "      <th>Y1</th>\n",
       "      <th>Y2</th>\n",
       "    </tr>\n",
       "  </thead>\n",
       "  <tbody>\n",
       "    <tr>\n",
       "      <th>0</th>\n",
       "      <td>0.98</td>\n",
       "      <td>514.5</td>\n",
       "      <td>294.0</td>\n",
       "      <td>110.25</td>\n",
       "      <td>7.0</td>\n",
       "      <td>2</td>\n",
       "      <td>0.0</td>\n",
       "      <td>0</td>\n",
       "      <td>15.55</td>\n",
       "      <td>21.33</td>\n",
       "    </tr>\n",
       "    <tr>\n",
       "      <th>1</th>\n",
       "      <td>0.98</td>\n",
       "      <td>514.5</td>\n",
       "      <td>294.0</td>\n",
       "      <td>110.25</td>\n",
       "      <td>7.0</td>\n",
       "      <td>3</td>\n",
       "      <td>0.0</td>\n",
       "      <td>0</td>\n",
       "      <td>15.55</td>\n",
       "      <td>21.33</td>\n",
       "    </tr>\n",
       "    <tr>\n",
       "      <th>2</th>\n",
       "      <td>0.98</td>\n",
       "      <td>514.5</td>\n",
       "      <td>294.0</td>\n",
       "      <td>110.25</td>\n",
       "      <td>7.0</td>\n",
       "      <td>4</td>\n",
       "      <td>0.0</td>\n",
       "      <td>0</td>\n",
       "      <td>15.55</td>\n",
       "      <td>21.33</td>\n",
       "    </tr>\n",
       "    <tr>\n",
       "      <th>3</th>\n",
       "      <td>0.98</td>\n",
       "      <td>514.5</td>\n",
       "      <td>294.0</td>\n",
       "      <td>110.25</td>\n",
       "      <td>7.0</td>\n",
       "      <td>5</td>\n",
       "      <td>0.0</td>\n",
       "      <td>0</td>\n",
       "      <td>15.55</td>\n",
       "      <td>21.33</td>\n",
       "    </tr>\n",
       "    <tr>\n",
       "      <th>4</th>\n",
       "      <td>0.90</td>\n",
       "      <td>563.5</td>\n",
       "      <td>318.5</td>\n",
       "      <td>122.50</td>\n",
       "      <td>7.0</td>\n",
       "      <td>2</td>\n",
       "      <td>0.0</td>\n",
       "      <td>0</td>\n",
       "      <td>20.84</td>\n",
       "      <td>28.28</td>\n",
       "    </tr>\n",
       "  </tbody>\n",
       "</table>\n",
       "</div>"
      ],
      "text/plain": [
       "     X1     X2     X3      X4   X5  X6   X7  X8     Y1     Y2\n",
       "0  0.98  514.5  294.0  110.25  7.0   2  0.0   0  15.55  21.33\n",
       "1  0.98  514.5  294.0  110.25  7.0   3  0.0   0  15.55  21.33\n",
       "2  0.98  514.5  294.0  110.25  7.0   4  0.0   0  15.55  21.33\n",
       "3  0.98  514.5  294.0  110.25  7.0   5  0.0   0  15.55  21.33\n",
       "4  0.90  563.5  318.5  122.50  7.0   2  0.0   0  20.84  28.28"
      ]
     },
     "execution_count": 243,
     "metadata": {},
     "output_type": "execute_result"
    }
   ],
   "source": [
    "data.head()"
   ]
  },
  {
   "cell_type": "markdown",
   "metadata": {},
   "source": [
    "# Descriptive Statistics (EDA)"
   ]
  },
  {
   "cell_type": "code",
   "execution_count": 244,
   "metadata": {},
   "outputs": [
    {
     "data": {
      "text/html": [
       "<div>\n",
       "<style scoped>\n",
       "    .dataframe tbody tr th:only-of-type {\n",
       "        vertical-align: middle;\n",
       "    }\n",
       "\n",
       "    .dataframe tbody tr th {\n",
       "        vertical-align: top;\n",
       "    }\n",
       "\n",
       "    .dataframe thead th {\n",
       "        text-align: right;\n",
       "    }\n",
       "</style>\n",
       "<table border=\"1\" class=\"dataframe\">\n",
       "  <thead>\n",
       "    <tr style=\"text-align: right;\">\n",
       "      <th></th>\n",
       "      <th>X1</th>\n",
       "      <th>X2</th>\n",
       "      <th>X3</th>\n",
       "      <th>X4</th>\n",
       "      <th>X5</th>\n",
       "      <th>X6</th>\n",
       "      <th>X7</th>\n",
       "      <th>X8</th>\n",
       "      <th>Y1</th>\n",
       "      <th>Y2</th>\n",
       "    </tr>\n",
       "  </thead>\n",
       "  <tbody>\n",
       "    <tr>\n",
       "      <th>count</th>\n",
       "      <td>768.000000</td>\n",
       "      <td>768.000000</td>\n",
       "      <td>768.000000</td>\n",
       "      <td>768.000000</td>\n",
       "      <td>768.00000</td>\n",
       "      <td>768.000000</td>\n",
       "      <td>768.000000</td>\n",
       "      <td>768.00000</td>\n",
       "      <td>768.000000</td>\n",
       "      <td>768.000000</td>\n",
       "    </tr>\n",
       "    <tr>\n",
       "      <th>mean</th>\n",
       "      <td>0.764167</td>\n",
       "      <td>671.708333</td>\n",
       "      <td>318.500000</td>\n",
       "      <td>176.604167</td>\n",
       "      <td>5.25000</td>\n",
       "      <td>3.500000</td>\n",
       "      <td>0.234375</td>\n",
       "      <td>2.81250</td>\n",
       "      <td>22.307201</td>\n",
       "      <td>24.587760</td>\n",
       "    </tr>\n",
       "    <tr>\n",
       "      <th>std</th>\n",
       "      <td>0.105777</td>\n",
       "      <td>88.086116</td>\n",
       "      <td>43.626481</td>\n",
       "      <td>45.165950</td>\n",
       "      <td>1.75114</td>\n",
       "      <td>1.118763</td>\n",
       "      <td>0.133221</td>\n",
       "      <td>1.55096</td>\n",
       "      <td>10.090196</td>\n",
       "      <td>9.513306</td>\n",
       "    </tr>\n",
       "    <tr>\n",
       "      <th>min</th>\n",
       "      <td>0.620000</td>\n",
       "      <td>514.500000</td>\n",
       "      <td>245.000000</td>\n",
       "      <td>110.250000</td>\n",
       "      <td>3.50000</td>\n",
       "      <td>2.000000</td>\n",
       "      <td>0.000000</td>\n",
       "      <td>0.00000</td>\n",
       "      <td>6.010000</td>\n",
       "      <td>10.900000</td>\n",
       "    </tr>\n",
       "    <tr>\n",
       "      <th>25%</th>\n",
       "      <td>0.682500</td>\n",
       "      <td>606.375000</td>\n",
       "      <td>294.000000</td>\n",
       "      <td>140.875000</td>\n",
       "      <td>3.50000</td>\n",
       "      <td>2.750000</td>\n",
       "      <td>0.100000</td>\n",
       "      <td>1.75000</td>\n",
       "      <td>12.992500</td>\n",
       "      <td>15.620000</td>\n",
       "    </tr>\n",
       "    <tr>\n",
       "      <th>50%</th>\n",
       "      <td>0.750000</td>\n",
       "      <td>673.750000</td>\n",
       "      <td>318.500000</td>\n",
       "      <td>183.750000</td>\n",
       "      <td>5.25000</td>\n",
       "      <td>3.500000</td>\n",
       "      <td>0.250000</td>\n",
       "      <td>3.00000</td>\n",
       "      <td>18.950000</td>\n",
       "      <td>22.080000</td>\n",
       "    </tr>\n",
       "    <tr>\n",
       "      <th>75%</th>\n",
       "      <td>0.830000</td>\n",
       "      <td>741.125000</td>\n",
       "      <td>343.000000</td>\n",
       "      <td>220.500000</td>\n",
       "      <td>7.00000</td>\n",
       "      <td>4.250000</td>\n",
       "      <td>0.400000</td>\n",
       "      <td>4.00000</td>\n",
       "      <td>31.667500</td>\n",
       "      <td>33.132500</td>\n",
       "    </tr>\n",
       "    <tr>\n",
       "      <th>max</th>\n",
       "      <td>0.980000</td>\n",
       "      <td>808.500000</td>\n",
       "      <td>416.500000</td>\n",
       "      <td>220.500000</td>\n",
       "      <td>7.00000</td>\n",
       "      <td>5.000000</td>\n",
       "      <td>0.400000</td>\n",
       "      <td>5.00000</td>\n",
       "      <td>43.100000</td>\n",
       "      <td>48.030000</td>\n",
       "    </tr>\n",
       "  </tbody>\n",
       "</table>\n",
       "</div>"
      ],
      "text/plain": [
       "               X1          X2          X3          X4         X5          X6  \\\n",
       "count  768.000000  768.000000  768.000000  768.000000  768.00000  768.000000   \n",
       "mean     0.764167  671.708333  318.500000  176.604167    5.25000    3.500000   \n",
       "std      0.105777   88.086116   43.626481   45.165950    1.75114    1.118763   \n",
       "min      0.620000  514.500000  245.000000  110.250000    3.50000    2.000000   \n",
       "25%      0.682500  606.375000  294.000000  140.875000    3.50000    2.750000   \n",
       "50%      0.750000  673.750000  318.500000  183.750000    5.25000    3.500000   \n",
       "75%      0.830000  741.125000  343.000000  220.500000    7.00000    4.250000   \n",
       "max      0.980000  808.500000  416.500000  220.500000    7.00000    5.000000   \n",
       "\n",
       "               X7         X8          Y1          Y2  \n",
       "count  768.000000  768.00000  768.000000  768.000000  \n",
       "mean     0.234375    2.81250   22.307201   24.587760  \n",
       "std      0.133221    1.55096   10.090196    9.513306  \n",
       "min      0.000000    0.00000    6.010000   10.900000  \n",
       "25%      0.100000    1.75000   12.992500   15.620000  \n",
       "50%      0.250000    3.00000   18.950000   22.080000  \n",
       "75%      0.400000    4.00000   31.667500   33.132500  \n",
       "max      0.400000    5.00000   43.100000   48.030000  "
      ]
     },
     "execution_count": 244,
     "metadata": {},
     "output_type": "execute_result"
    }
   ],
   "source": [
    "data.describe()"
   ]
  },
  {
   "cell_type": "markdown",
   "metadata": {},
   "source": [
    "From the above summary it doesn't look like there are any outliers. I will re-confirm this later. Also, mean and median for all the features are almost the same."
   ]
  },
  {
   "cell_type": "code",
   "execution_count": 5,
   "metadata": {},
   "outputs": [
    {
     "data": {
      "text/plain": [
       "X1    0\n",
       "X2    0\n",
       "X3    0\n",
       "X4    0\n",
       "X5    0\n",
       "X6    0\n",
       "X7    0\n",
       "X8    0\n",
       "Y1    0\n",
       "Y2    0\n",
       "dtype: int64"
      ]
     },
     "execution_count": 5,
     "metadata": {},
     "output_type": "execute_result"
    }
   ],
   "source": [
    "#missing values\n",
    "data.isnull().sum()"
   ]
  },
  {
   "cell_type": "markdown",
   "metadata": {},
   "source": [
    "From the above stats, it is clear that there are no missing values."
   ]
  },
  {
   "cell_type": "code",
   "execution_count": 6,
   "metadata": {},
   "outputs": [
    {
     "name": "stdout",
     "output_type": "stream",
     "text": [
      "X1: [0.98 0.9  0.86 0.82 0.79 0.76 0.74 0.71 0.69 0.66 0.64 0.62]\n",
      "X2: [514.5 563.5 588.  612.5 637.  661.5 686.  710.5 735.  759.5 784.  808.5]\n",
      "X3: [294.  318.5 343.  416.5 245.  269.5 367.5]\n",
      "X4: [110.25 122.5  147.   220.5 ]\n",
      "X5: [7.  3.5]\n",
      "X6: [2 3 4 5]\n",
      "X7: [0.   0.1  0.25 0.4 ]\n",
      "X8: [0 1 2 3 4 5]\n"
     ]
    }
   ],
   "source": [
    "# unique values\n",
    "print('X1:',data.X1.unique())\n",
    "print('X2:',data.X2.unique())\n",
    "print('X3:',data.X3.unique())\n",
    "print('X4:',data.X4.unique())\n",
    "print('X5:',data.X5.unique())\n",
    "print('X6:',data.X6.unique())\n",
    "print('X7:',data.X7.unique())\n",
    "print('X8:',data.X8.unique())"
   ]
  },
  {
   "cell_type": "code",
   "execution_count": 7,
   "metadata": {},
   "outputs": [
    {
     "data": {
      "text/plain": [
       "0.90    64\n",
       "0.79    64\n",
       "0.71    64\n",
       "0.66    64\n",
       "0.98    64\n",
       "0.64    64\n",
       "0.86    64\n",
       "0.76    64\n",
       "0.74    64\n",
       "0.82    64\n",
       "0.62    64\n",
       "0.69    64\n",
       "Name: X1, dtype: int64"
      ]
     },
     "execution_count": 7,
     "metadata": {},
     "output_type": "execute_result"
    }
   ],
   "source": [
    "data.X1.value_counts()"
   ]
  },
  {
   "cell_type": "code",
   "execution_count": 8,
   "metadata": {},
   "outputs": [
    {
     "data": {
      "text/plain": [
       "563.5    64\n",
       "735.0    64\n",
       "686.0    64\n",
       "637.0    64\n",
       "808.5    64\n",
       "514.5    64\n",
       "759.5    64\n",
       "710.5    64\n",
       "661.5    64\n",
       "612.5    64\n",
       "784.0    64\n",
       "588.0    64\n",
       "Name: X2, dtype: int64"
      ]
     },
     "execution_count": 8,
     "metadata": {},
     "output_type": "execute_result"
    }
   ],
   "source": [
    "data.X2.value_counts()"
   ]
  },
  {
   "cell_type": "code",
   "execution_count": 9,
   "metadata": {},
   "outputs": [
    {
     "data": {
      "text/plain": [
       "318.5    192\n",
       "294.0    192\n",
       "343.0    128\n",
       "367.5     64\n",
       "245.0     64\n",
       "269.5     64\n",
       "416.5     64\n",
       "Name: X3, dtype: int64"
      ]
     },
     "execution_count": 9,
     "metadata": {},
     "output_type": "execute_result"
    }
   ],
   "source": [
    "data.X3.value_counts()"
   ]
  },
  {
   "cell_type": "code",
   "execution_count": 10,
   "metadata": {},
   "outputs": [
    {
     "data": {
      "text/plain": [
       "220.50    384\n",
       "147.00    192\n",
       "122.50    128\n",
       "110.25     64\n",
       "Name: X4, dtype: int64"
      ]
     },
     "execution_count": 10,
     "metadata": {},
     "output_type": "execute_result"
    }
   ],
   "source": [
    "data.X4.value_counts()"
   ]
  },
  {
   "cell_type": "code",
   "execution_count": 11,
   "metadata": {},
   "outputs": [
    {
     "data": {
      "text/plain": [
       "3.5    384\n",
       "7.0    384\n",
       "Name: X5, dtype: int64"
      ]
     },
     "execution_count": 11,
     "metadata": {},
     "output_type": "execute_result"
    }
   ],
   "source": [
    "data.X5.value_counts()"
   ]
  },
  {
   "cell_type": "code",
   "execution_count": 12,
   "metadata": {},
   "outputs": [
    {
     "data": {
      "text/plain": [
       "5    192\n",
       "4    192\n",
       "3    192\n",
       "2    192\n",
       "Name: X6, dtype: int64"
      ]
     },
     "execution_count": 12,
     "metadata": {},
     "output_type": "execute_result"
    }
   ],
   "source": [
    "data.X6.value_counts()"
   ]
  },
  {
   "cell_type": "code",
   "execution_count": 13,
   "metadata": {},
   "outputs": [
    {
     "data": {
      "text/plain": [
       "0.40    240\n",
       "0.10    240\n",
       "0.25    240\n",
       "0.00     48\n",
       "Name: X7, dtype: int64"
      ]
     },
     "execution_count": 13,
     "metadata": {},
     "output_type": "execute_result"
    }
   ],
   "source": [
    "data.X7.value_counts()"
   ]
  },
  {
   "cell_type": "code",
   "execution_count": 14,
   "metadata": {},
   "outputs": [
    {
     "data": {
      "text/plain": [
       "5    144\n",
       "4    144\n",
       "3    144\n",
       "2    144\n",
       "1    144\n",
       "0     48\n",
       "Name: X8, dtype: int64"
      ]
     },
     "execution_count": 14,
     "metadata": {},
     "output_type": "execute_result"
    }
   ],
   "source": [
    "data.X8.value_counts()"
   ]
  },
  {
   "cell_type": "markdown",
   "metadata": {},
   "source": [
    "From the above statistics we can infer that the dataset is fairly balanced."
   ]
  },
  {
   "cell_type": "markdown",
   "metadata": {},
   "source": [
    "# Some Plots to interpret the data"
   ]
  },
  {
   "cell_type": "code",
   "execution_count": 245,
   "metadata": {},
   "outputs": [
    {
     "data": {
      "text/plain": [
       "{'boxes': [<matplotlib.lines.Line2D at 0x1c230427b8>],\n",
       " 'caps': [<matplotlib.lines.Line2D at 0x1c2304b2b0>,\n",
       "  <matplotlib.lines.Line2D at 0x1c2304b710>],\n",
       " 'fliers': [<matplotlib.lines.Line2D at 0x1c2304bfd0>],\n",
       " 'means': [],\n",
       " 'medians': [<matplotlib.lines.Line2D at 0x1c2304bb70>],\n",
       " 'whiskers': [<matplotlib.lines.Line2D at 0x1c23042940>,\n",
       "  <matplotlib.lines.Line2D at 0x1c23042e10>]}"
      ]
     },
     "execution_count": 245,
     "metadata": {},
     "output_type": "execute_result"
    },
    {
     "data": {
      "image/png": "[encoded data removed]",
      "text/plain": [
       "<matplotlib.figure.Figure at 0x1c22d9af98>"
      ]
     },
     "metadata": {},
     "output_type": "display_data"
    }
   ],
   "source": [
    "fig, ax = plt.subplots(nrows = 2, ncols = 4)\n",
    "ax[0][0].boxplot(data.X1)\n",
    "ax[0][1].boxplot(data.X2)\n",
    "ax[0][2].boxplot(data.X3)\n",
    "ax[0][3].boxplot(data.X4)\n",
    "ax[1][0].boxplot(data.X5)\n",
    "ax[1][1].boxplot(data.X6)\n",
    "ax[1][2].boxplot(data.X7)\n",
    "ax[1][3].boxplot(data.X8)"
   ]
  },
  {
   "cell_type": "markdown",
   "metadata": {},
   "source": [
    "The above boxplots again confirm that there are no outliers."
   ]
  },
  {
   "cell_type": "code",
   "execution_count": 246,
   "metadata": {},
   "outputs": [
    {
     "data": {
      "text/plain": [
       "<matplotlib.collections.PathCollection at 0x1c23343390>"
      ]
     },
     "execution_count": 246,
     "metadata": {},
     "output_type": "execute_result"
    },
    {
     "data": {
      "image/png": "[encoded data removed]",
      "text/plain": [
       "<matplotlib.figure.Figure at 0x1c22b0e240>"
      ]
     },
     "metadata": {},
     "output_type": "display_data"
    }
   ],
   "source": [
    "# [X1,X2,X3,X4,X5,X6,X7,X8] vs. Y1\n",
    "fig, ax = plt.subplots(nrows = 2, ncols = 4)\n",
    "ax[0][0].scatter(data.X1,data.Y1)\n",
    "ax[0][1].scatter(data.X2,data.Y1)\n",
    "ax[0][2].scatter(data.X3,data.Y1)\n",
    "ax[0][3].scatter(data.X4,data.Y1)\n",
    "ax[1][0].scatter(data.X5,data.Y1)\n",
    "ax[1][1].scatter(data.X6,data.Y1)\n",
    "ax[1][2].scatter(data.X7,data.Y1)\n",
    "ax[1][3].scatter(data.X8,data.Y1)"
   ]
  },
  {
   "cell_type": "code",
   "execution_count": 247,
   "metadata": {},
   "outputs": [
    {
     "data": {
      "text/plain": [
       "<matplotlib.collections.PathCollection at 0x1c236160b8>"
      ]
     },
     "execution_count": 247,
     "metadata": {},
     "output_type": "execute_result"
    },
    {
     "data": {
      "image/png": "[encoded data removed]",
      "text/plain": [
       "<matplotlib.figure.Figure at 0x1c22b0e0b8>"
      ]
     },
     "metadata": {},
     "output_type": "display_data"
    }
   ],
   "source": [
    "# [X1,X2,X3,X4,X5,X6,X7,X8] vs. Y2\n",
    "fig, ax = plt.subplots(nrows = 2, ncols = 4)\n",
    "ax[0][0].scatter(data.X1,data.Y2)\n",
    "ax[0][1].scatter(data.X2,data.Y2)\n",
    "ax[0][2].scatter(data.X3,data.Y2)\n",
    "ax[0][3].scatter(data.X4,data.Y2)\n",
    "ax[1][0].scatter(data.X5,data.Y2)\n",
    "ax[1][1].scatter(data.X6,data.Y2)\n",
    "ax[1][2].scatter(data.X7,data.Y2)\n",
    "ax[1][3].scatter(data.X8,data.Y2)"
   ]
  },
  {
   "cell_type": "code",
   "execution_count": 202,
   "metadata": {},
   "outputs": [
    {
     "data": {
      "text/plain": [
       "<seaborn.axisgrid.PairGrid at 0x1c2d43c6d8>"
      ]
     },
     "execution_count": 202,
     "metadata": {},
     "output_type": "execute_result"
    },
    {
     "data": {
      "image/png": "[encoded data removed]",
      "text/plain": [
       "<matplotlib.figure.Figure at 0x1c2d43c588>"
      ]
     },
     "metadata": {},
     "output_type": "display_data"
    }
   ],
   "source": [
    "sns.pairplot(data[['X1','X2','X3','X4','X5','X6','X7','X8']].dropna(how = 'any', axis = 0))"
   ]
  },
  {
   "cell_type": "code",
   "execution_count": 203,
   "metadata": {},
   "outputs": [
    {
     "data": {
      "text/plain": [
       "<seaborn.axisgrid.FacetGrid at 0x1c2ffd56a0>"
      ]
     },
     "execution_count": 203,
     "metadata": {},
     "output_type": "execute_result"
    },
    {
     "data": {
      "image/png": "[encoded data removed]",
      "text/plain": [
       "<matplotlib.figure.Figure at 0x1c2ffd5978>"
      ]
     },
     "metadata": {},
     "output_type": "display_data"
    }
   ],
   "source": [
    "sns.lmplot(x='X1',y='Y1',data=data,fit_reg=True)\n",
    "# We can plot similar plots for X2, X3, X4, X5, X6, X7, X8 vs. Y1"
   ]
  },
  {
   "cell_type": "code",
   "execution_count": 204,
   "metadata": {},
   "outputs": [
    {
     "data": {
      "text/plain": [
       "<seaborn.axisgrid.FacetGrid at 0x1c2ff71550>"
      ]
     },
     "execution_count": 204,
     "metadata": {},
     "output_type": "execute_result"
    },
    {
     "data": {
      "image/png": "[encoded data removed]",
      "text/plain": [
       "<matplotlib.figure.Figure at 0x1c2fd79b38>"
      ]
     },
     "metadata": {},
     "output_type": "display_data"
    }
   ],
   "source": [
    "sns.lmplot(x='X1',y='Y2',data=data,fit_reg=True)\n",
    "# We can plot similar plots for X2, X3, X4, X5, X6, X7, X8 vs. Y2"
   ]
  },
  {
   "cell_type": "markdown",
   "metadata": {},
   "source": [
    "# Model Building"
   ]
  },
  {
   "cell_type": "code",
   "execution_count": 248,
   "metadata": {},
   "outputs": [],
   "source": [
    "# Put the target (Y1, Y2) in another DataFrame\n",
    "targetY1 = pd.DataFrame(data.Y1, columns=[\"Y1\"])\n",
    "targetY2 = pd.DataFrame(data.Y2, columns=[\"Y2\"])"
   ]
  },
  {
   "cell_type": "code",
   "execution_count": 249,
   "metadata": {},
   "outputs": [],
   "source": [
    "X = data.drop(['Y1','Y2'], axis=1)"
   ]
  },
  {
   "cell_type": "code",
   "execution_count": 250,
   "metadata": {},
   "outputs": [],
   "source": [
    "y1 = targetY1['Y1']\n",
    "y2 = targetY2['Y2']"
   ]
  },
  {
   "cell_type": "markdown",
   "metadata": {},
   "source": [
    "I will first attempt the linear regression model as is on the dataset.\n",
    "\n",
    "Predictors: X1, X2, X3, X4, X5, X6, X7, X8\n",
    "\n",
    "Response: Y2"
   ]
  },
  {
   "cell_type": "code",
   "execution_count": 251,
   "metadata": {},
   "outputs": [],
   "source": [
    "from sklearn.linear_model import LinearRegression\n",
    "from sklearn.model_selection import train_test_split"
   ]
  },
  {
   "cell_type": "code",
   "execution_count": 252,
   "metadata": {},
   "outputs": [
    {
     "data": {
      "text/plain": [
       "LinearRegression(copy_X=True, fit_intercept=True, n_jobs=1, normalize=False)"
      ]
     },
     "execution_count": 252,
     "metadata": {},
     "output_type": "execute_result"
    }
   ],
   "source": [
    "# Train & Test Split\n",
    "x_train,x_test,y2_train,y2_test = train_test_split(X,y2,test_size=0.2,random_state=4)\n",
    "# Linear Regression model\n",
    "lm = LinearRegression()\n",
    "model = lm.fit(x_train,y2_train)\n",
    "model"
   ]
  },
  {
   "cell_type": "code",
   "execution_count": 253,
   "metadata": {},
   "outputs": [
    {
     "data": {
      "text/plain": [
       "array([39.75567618, 14.84734692, 36.24369445, 40.25166618, 17.09674955])"
      ]
     },
     "execution_count": 253,
     "metadata": {},
     "output_type": "execute_result"
    }
   ],
   "source": [
    "# First 5 predictions on the training data\n",
    "predictions = lm.predict(x_train)\n",
    "predictions[0:5]"
   ]
  },
  {
   "cell_type": "code",
   "execution_count": 254,
   "metadata": {},
   "outputs": [
    {
     "data": {
      "text/html": [
       "<div>\n",
       "<style scoped>\n",
       "    .dataframe tbody tr th:only-of-type {\n",
       "        vertical-align: middle;\n",
       "    }\n",
       "\n",
       "    .dataframe tbody tr th {\n",
       "        vertical-align: top;\n",
       "    }\n",
       "\n",
       "    .dataframe thead th {\n",
       "        text-align: right;\n",
       "    }\n",
       "</style>\n",
       "<table border=\"1\" class=\"dataframe\">\n",
       "  <thead>\n",
       "    <tr style=\"text-align: right;\">\n",
       "      <th></th>\n",
       "      <th>X1</th>\n",
       "      <th>X2</th>\n",
       "      <th>X3</th>\n",
       "      <th>X4</th>\n",
       "      <th>X5</th>\n",
       "      <th>X6</th>\n",
       "      <th>X7</th>\n",
       "      <th>X8</th>\n",
       "      <th>Y2</th>\n",
       "      <th>Y2_pred</th>\n",
       "    </tr>\n",
       "  </thead>\n",
       "  <tbody>\n",
       "    <tr>\n",
       "      <th>596</th>\n",
       "      <td>0.76</td>\n",
       "      <td>661.5</td>\n",
       "      <td>416.5</td>\n",
       "      <td>122.5</td>\n",
       "      <td>7.0</td>\n",
       "      <td>2</td>\n",
       "      <td>0.40</td>\n",
       "      <td>2</td>\n",
       "      <td>39.48</td>\n",
       "      <td>39.755676</td>\n",
       "    </tr>\n",
       "    <tr>\n",
       "      <th>90</th>\n",
       "      <td>0.64</td>\n",
       "      <td>784.0</td>\n",
       "      <td>343.0</td>\n",
       "      <td>220.5</td>\n",
       "      <td>3.5</td>\n",
       "      <td>4</td>\n",
       "      <td>0.10</td>\n",
       "      <td>1</td>\n",
       "      <td>19.34</td>\n",
       "      <td>14.847347</td>\n",
       "    </tr>\n",
       "    <tr>\n",
       "      <th>734</th>\n",
       "      <td>0.82</td>\n",
       "      <td>612.5</td>\n",
       "      <td>318.5</td>\n",
       "      <td>147.0</td>\n",
       "      <td>7.0</td>\n",
       "      <td>4</td>\n",
       "      <td>0.40</td>\n",
       "      <td>5</td>\n",
       "      <td>33.84</td>\n",
       "      <td>36.243694</td>\n",
       "    </tr>\n",
       "    <tr>\n",
       "      <th>694</th>\n",
       "      <td>0.76</td>\n",
       "      <td>661.5</td>\n",
       "      <td>416.5</td>\n",
       "      <td>122.5</td>\n",
       "      <td>7.0</td>\n",
       "      <td>4</td>\n",
       "      <td>0.40</td>\n",
       "      <td>4</td>\n",
       "      <td>39.85</td>\n",
       "      <td>40.251666</td>\n",
       "    </tr>\n",
       "    <tr>\n",
       "      <th>517</th>\n",
       "      <td>0.66</td>\n",
       "      <td>759.5</td>\n",
       "      <td>318.5</td>\n",
       "      <td>220.5</td>\n",
       "      <td>3.5</td>\n",
       "      <td>3</td>\n",
       "      <td>0.25</td>\n",
       "      <td>5</td>\n",
       "      <td>16.03</td>\n",
       "      <td>17.096750</td>\n",
       "    </tr>\n",
       "  </tbody>\n",
       "</table>\n",
       "</div>"
      ],
      "text/plain": [
       "       X1     X2     X3     X4   X5  X6    X7  X8     Y2    Y2_pred\n",
       "596  0.76  661.5  416.5  122.5  7.0   2  0.40   2  39.48  39.755676\n",
       "90   0.64  784.0  343.0  220.5  3.5   4  0.10   1  19.34  14.847347\n",
       "734  0.82  612.5  318.5  147.0  7.0   4  0.40   5  33.84  36.243694\n",
       "694  0.76  661.5  416.5  122.5  7.0   4  0.40   4  39.85  40.251666\n",
       "517  0.66  759.5  318.5  220.5  3.5   3  0.25   5  16.03  17.096750"
      ]
     },
     "execution_count": 254,
     "metadata": {},
     "output_type": "execute_result"
    }
   ],
   "source": [
    "# View the predictions against actual Y1s\n",
    "result = pd.concat([x_train, y2_train], axis=1)\n",
    "result = pd.concat([result,pd.DataFrame(predictions,index=result.index,columns=['Y2_pred'])],axis=1)\n",
    "result.head()"
   ]
  },
  {
   "cell_type": "code",
   "execution_count": 255,
   "metadata": {},
   "outputs": [
    {
     "name": "stdout",
     "output_type": "stream",
     "text": [
      "R-squared: 0.8859093734675819\n",
      "Adjusted R-squared: 0.8844007370836822\n",
      "Coefficients: [-7.13230796e+01  3.31930902e+10 -3.31930902e+10 -6.63861803e+10\n",
      "  4.40240267e+00  1.29013614e-01  1.48317087e+01  1.18981389e-01]\n",
      "Intercept: 96.80119961319218\n",
      "Mean-Squared Error: 10.490688934277257\n",
      "Root Mean-Squared Error: 3.2389333019185895\n"
     ]
    }
   ],
   "source": [
    "# R-square (Variance)\n",
    "R_sqr=lm.score(x_train,y2_train)\n",
    "#coefficients\n",
    "coefficients=lm.coef_\n",
    "#intercept\n",
    "intercept=lm.intercept_\n",
    "#Mean-squared error (MSE)\n",
    "mse=np.mean((predictions-y2_train)**2)\n",
    "#RMSE\n",
    "rmse=np.sqrt(mse)\n",
    "#Residuals\n",
    "residuals = y2_train-predictions\n",
    "#Adjusted R-square\n",
    "Adj_R_sqr = 1-(((1-R_sqr)*(x_train.shape[0]-1))/(x_train.shape[0]-x_train.columns.size-1))\n",
    "\n",
    "print('R-squared:',R_sqr)\n",
    "print('Adjusted R-squared:',Adj_R_sqr)\n",
    "print('Coefficients:',coefficients)\n",
    "print('Intercept:',intercept)\n",
    "print('Mean-Squared Error:',mse)\n",
    "print('Root Mean-Squared Error:',rmse)"
   ]
  },
  {
   "cell_type": "markdown",
   "metadata": {},
   "source": [
    "# Summary from the above model\n",
    "--> R-squared & Adjusted R-squared values are close to 1 and the model explains 88.59 variance of the data. This makes sense as we can see that the predicted values are close to actual values\n",
    "\n",
    "--> RMSE is low and is definitely very low when compared to the standard deviation of Y2\n",
    "\n",
    "We can infer from the above that the model does provide a decent fit."
   ]
  },
  {
   "cell_type": "markdown",
   "metadata": {},
   "source": [
    "# Test of Assumptions"
   ]
  },
  {
   "cell_type": "markdown",
   "metadata": {},
   "source": [
    "## Assumption 1: Linear Relationship\n",
    "In multiple linear regression with large number of predictor variables, we can use standardised residual plot against each one of the predictor variables. The ideal plot of residuals with each of the predictor should be a random scatter because we assume that the residuals are uncorrelated with the predictor variables. Any noticeable pattern in such plots indicates violation of linear relationship assumption."
   ]
  },
  {
   "cell_type": "code",
   "execution_count": 256,
   "metadata": {},
   "outputs": [
    {
     "data": {
      "text/plain": [
       "<matplotlib.collections.PathCollection at 0x1c2366c6d8>"
      ]
     },
     "execution_count": 256,
     "metadata": {},
     "output_type": "execute_result"
    },
    {
     "data": {
      "image/png": "[encoded data removed]",
      "text/plain": [
       "<matplotlib.figure.Figure at 0x1c228d9390>"
      ]
     },
     "metadata": {},
     "output_type": "display_data"
    }
   ],
   "source": [
    "# Test the plot for each predictor\n",
    "plt.scatter(x_train.X1,residuals)"
   ]
  },
  {
   "cell_type": "markdown",
   "metadata": {},
   "source": [
    "## Assumption 2: Mean of residuals should be zero or close to 0 - for best fit line"
   ]
  },
  {
   "cell_type": "code",
   "execution_count": 26,
   "metadata": {},
   "outputs": [
    {
     "data": {
      "text/plain": [
       "-0.0009950349559059162"
      ]
     },
     "execution_count": 26,
     "metadata": {},
     "output_type": "execute_result"
    }
   ],
   "source": [
    "#Mean of residuals should be zero or close to 0 - for best fit line\n",
    "np.mean(residuals)"
   ]
  },
  {
   "cell_type": "markdown",
   "metadata": {},
   "source": [
    "## Assumption 3: There should be homoscedasticity or equal variance of error terms"
   ]
  },
  {
   "cell_type": "code",
   "execution_count": 257,
   "metadata": {},
   "outputs": [
    {
     "data": {
      "text/plain": [
       "<matplotlib.collections.PathCollection at 0x1c2382f4e0>"
      ]
     },
     "execution_count": 257,
     "metadata": {},
     "output_type": "execute_result"
    },
    {
     "data": {
      "image/png": "[encoded data removed]",
      "text/plain": [
       "<matplotlib.figure.Figure at 0x1c22c4a9e8>"
      ]
     },
     "metadata": {},
     "output_type": "display_data"
    }
   ],
   "source": [
    "#Tests for Heteroscedasticity\n",
    "plt.scatter(predictions,residuals)"
   ]
  },
  {
   "cell_type": "markdown",
   "metadata": {},
   "source": [
    "## Assumption 4 : The dependent variables and residuals should be uncorrelated."
   ]
  },
  {
   "cell_type": "code",
   "execution_count": 28,
   "metadata": {},
   "outputs": [
    {
     "data": {
      "text/plain": [
       "0.33734162295987036"
      ]
     },
     "execution_count": 28,
     "metadata": {},
     "output_type": "execute_result"
    }
   ],
   "source": [
    "#correlation\n",
    "y2_train.corr(residuals)"
   ]
  },
  {
   "cell_type": "code",
   "execution_count": 258,
   "metadata": {},
   "outputs": [
    {
     "data": {
      "text/plain": [
       "(0.33734162295987036, 8.313452849071954e-18)"
      ]
     },
     "execution_count": 258,
     "metadata": {},
     "output_type": "execute_result"
    }
   ],
   "source": [
    "from scipy.stats import pearsonr\n",
    "pearsonr(y2_train,residuals)"
   ]
  },
  {
   "cell_type": "markdown",
   "metadata": {},
   "source": [
    "## Assumption 5: There should be no perfect multicollinearity in the model."
   ]
  },
  {
   "cell_type": "code",
   "execution_count": 235,
   "metadata": {},
   "outputs": [
    {
     "data": {
      "text/html": [
       "<div>\n",
       "<style scoped>\n",
       "    .dataframe tbody tr th:only-of-type {\n",
       "        vertical-align: middle;\n",
       "    }\n",
       "\n",
       "    .dataframe tbody tr th {\n",
       "        vertical-align: top;\n",
       "    }\n",
       "\n",
       "    .dataframe thead th {\n",
       "        text-align: right;\n",
       "    }\n",
       "</style>\n",
       "<table border=\"1\" class=\"dataframe\">\n",
       "  <thead>\n",
       "    <tr style=\"text-align: right;\">\n",
       "      <th></th>\n",
       "      <th>X1</th>\n",
       "      <th>X2</th>\n",
       "      <th>X3</th>\n",
       "      <th>X4</th>\n",
       "      <th>X5</th>\n",
       "      <th>X6</th>\n",
       "      <th>X7</th>\n",
       "      <th>X8</th>\n",
       "    </tr>\n",
       "  </thead>\n",
       "  <tbody>\n",
       "    <tr>\n",
       "      <th>X1</th>\n",
       "      <td>1.000000e+00</td>\n",
       "      <td>-9.919015e-01</td>\n",
       "      <td>-2.037817e-01</td>\n",
       "      <td>-8.688234e-01</td>\n",
       "      <td>8.277473e-01</td>\n",
       "      <td>0.0</td>\n",
       "      <td>1.283986e-17</td>\n",
       "      <td>1.764620e-17</td>\n",
       "    </tr>\n",
       "    <tr>\n",
       "      <th>X2</th>\n",
       "      <td>-9.919015e-01</td>\n",
       "      <td>1.000000e+00</td>\n",
       "      <td>1.955016e-01</td>\n",
       "      <td>8.807195e-01</td>\n",
       "      <td>-8.581477e-01</td>\n",
       "      <td>0.0</td>\n",
       "      <td>1.318356e-16</td>\n",
       "      <td>-3.558613e-16</td>\n",
       "    </tr>\n",
       "    <tr>\n",
       "      <th>X3</th>\n",
       "      <td>-2.037817e-01</td>\n",
       "      <td>1.955016e-01</td>\n",
       "      <td>1.000000e+00</td>\n",
       "      <td>-2.923165e-01</td>\n",
       "      <td>2.809757e-01</td>\n",
       "      <td>0.0</td>\n",
       "      <td>-7.969726e-19</td>\n",
       "      <td>0.000000e+00</td>\n",
       "    </tr>\n",
       "    <tr>\n",
       "      <th>X4</th>\n",
       "      <td>-8.688234e-01</td>\n",
       "      <td>8.807195e-01</td>\n",
       "      <td>-2.923165e-01</td>\n",
       "      <td>1.000000e+00</td>\n",
       "      <td>-9.725122e-01</td>\n",
       "      <td>0.0</td>\n",
       "      <td>-1.381805e-16</td>\n",
       "      <td>-1.079129e-16</td>\n",
       "    </tr>\n",
       "    <tr>\n",
       "      <th>X5</th>\n",
       "      <td>8.277473e-01</td>\n",
       "      <td>-8.581477e-01</td>\n",
       "      <td>2.809757e-01</td>\n",
       "      <td>-9.725122e-01</td>\n",
       "      <td>1.000000e+00</td>\n",
       "      <td>0.0</td>\n",
       "      <td>1.861418e-18</td>\n",
       "      <td>0.000000e+00</td>\n",
       "    </tr>\n",
       "    <tr>\n",
       "      <th>X6</th>\n",
       "      <td>0.000000e+00</td>\n",
       "      <td>0.000000e+00</td>\n",
       "      <td>0.000000e+00</td>\n",
       "      <td>0.000000e+00</td>\n",
       "      <td>0.000000e+00</td>\n",
       "      <td>1.0</td>\n",
       "      <td>0.000000e+00</td>\n",
       "      <td>0.000000e+00</td>\n",
       "    </tr>\n",
       "    <tr>\n",
       "      <th>X7</th>\n",
       "      <td>1.283986e-17</td>\n",
       "      <td>1.318356e-16</td>\n",
       "      <td>-7.969726e-19</td>\n",
       "      <td>-1.381805e-16</td>\n",
       "      <td>1.861418e-18</td>\n",
       "      <td>0.0</td>\n",
       "      <td>1.000000e+00</td>\n",
       "      <td>2.129642e-01</td>\n",
       "    </tr>\n",
       "    <tr>\n",
       "      <th>X8</th>\n",
       "      <td>1.764620e-17</td>\n",
       "      <td>-3.558613e-16</td>\n",
       "      <td>0.000000e+00</td>\n",
       "      <td>-1.079129e-16</td>\n",
       "      <td>0.000000e+00</td>\n",
       "      <td>0.0</td>\n",
       "      <td>2.129642e-01</td>\n",
       "      <td>1.000000e+00</td>\n",
       "    </tr>\n",
       "  </tbody>\n",
       "</table>\n",
       "</div>"
      ],
      "text/plain": [
       "              X1            X2            X3            X4            X5   X6  \\\n",
       "X1  1.000000e+00 -9.919015e-01 -2.037817e-01 -8.688234e-01  8.277473e-01  0.0   \n",
       "X2 -9.919015e-01  1.000000e+00  1.955016e-01  8.807195e-01 -8.581477e-01  0.0   \n",
       "X3 -2.037817e-01  1.955016e-01  1.000000e+00 -2.923165e-01  2.809757e-01  0.0   \n",
       "X4 -8.688234e-01  8.807195e-01 -2.923165e-01  1.000000e+00 -9.725122e-01  0.0   \n",
       "X5  8.277473e-01 -8.581477e-01  2.809757e-01 -9.725122e-01  1.000000e+00  0.0   \n",
       "X6  0.000000e+00  0.000000e+00  0.000000e+00  0.000000e+00  0.000000e+00  1.0   \n",
       "X7  1.283986e-17  1.318356e-16 -7.969726e-19 -1.381805e-16  1.861418e-18  0.0   \n",
       "X8  1.764620e-17 -3.558613e-16  0.000000e+00 -1.079129e-16  0.000000e+00  0.0   \n",
       "\n",
       "              X7            X8  \n",
       "X1  1.283986e-17  1.764620e-17  \n",
       "X2  1.318356e-16 -3.558613e-16  \n",
       "X3 -7.969726e-19  0.000000e+00  \n",
       "X4 -1.381805e-16 -1.079129e-16  \n",
       "X5  1.861418e-18  0.000000e+00  \n",
       "X6  0.000000e+00  0.000000e+00  \n",
       "X7  1.000000e+00  2.129642e-01  \n",
       "X8  2.129642e-01  1.000000e+00  "
      ]
     },
     "execution_count": 235,
     "metadata": {},
     "output_type": "execute_result"
    }
   ],
   "source": [
    "#correlation\n",
    "X.corr()"
   ]
  },
  {
   "cell_type": "code",
   "execution_count": 259,
   "metadata": {},
   "outputs": [
    {
     "data": {
      "text/plain": [
       "<matplotlib.axes._subplots.AxesSubplot at 0x1c238156a0>"
      ]
     },
     "execution_count": 259,
     "metadata": {},
     "output_type": "execute_result"
    },
    {
     "data": {
      "image/png": "[encoded data removed]",
      "text/plain": [
       "<matplotlib.figure.Figure at 0x1c2380f2b0>"
      ]
     },
     "metadata": {},
     "output_type": "display_data"
    }
   ],
   "source": [
    "#correlation\n",
    "#X.corr().style.format(\"{:.2}\").background_gradient(cmap=plt.get_cmap('coolwarm'), axis=1)\n",
    "sns.heatmap(X.corr(),cmap='RdYlGn_r',vmax=1.0,vmin=-1.0,linewidths=2.5)"
   ]
  },
  {
   "cell_type": "code",
   "execution_count": 260,
   "metadata": {},
   "outputs": [
    {
     "name": "stderr",
     "output_type": "stream",
     "text": [
      "/Users/kanuamit/anaconda3/lib/python3.6/site-packages/statsmodels/stats/outliers_influence.py:167: RuntimeWarning: divide by zero encountered in double_scalars\n",
      "  vif = 1. / (1. - r_squared_i)\n"
     ]
    },
    {
     "data": {
      "text/html": [
       "<div>\n",
       "<style scoped>\n",
       "    .dataframe tbody tr th:only-of-type {\n",
       "        vertical-align: middle;\n",
       "    }\n",
       "\n",
       "    .dataframe tbody tr th {\n",
       "        vertical-align: top;\n",
       "    }\n",
       "\n",
       "    .dataframe thead th {\n",
       "        text-align: right;\n",
       "    }\n",
       "</style>\n",
       "<table border=\"1\" class=\"dataframe\">\n",
       "  <thead>\n",
       "    <tr style=\"text-align: right;\">\n",
       "      <th></th>\n",
       "      <th>VIF Factor</th>\n",
       "      <th>features</th>\n",
       "    </tr>\n",
       "  </thead>\n",
       "  <tbody>\n",
       "    <tr>\n",
       "      <th>0</th>\n",
       "      <td>168.948751</td>\n",
       "      <td>X1</td>\n",
       "    </tr>\n",
       "    <tr>\n",
       "      <th>1</th>\n",
       "      <td>inf</td>\n",
       "      <td>X2</td>\n",
       "    </tr>\n",
       "    <tr>\n",
       "      <th>2</th>\n",
       "      <td>inf</td>\n",
       "      <td>X3</td>\n",
       "    </tr>\n",
       "    <tr>\n",
       "      <th>3</th>\n",
       "      <td>inf</td>\n",
       "      <td>X4</td>\n",
       "    </tr>\n",
       "    <tr>\n",
       "      <th>4</th>\n",
       "      <td>134.035782</td>\n",
       "      <td>X5</td>\n",
       "    </tr>\n",
       "    <tr>\n",
       "      <th>5</th>\n",
       "      <td>10.796725</td>\n",
       "      <td>X6</td>\n",
       "    </tr>\n",
       "    <tr>\n",
       "      <th>6</th>\n",
       "      <td>4.293656</td>\n",
       "      <td>X7</td>\n",
       "    </tr>\n",
       "    <tr>\n",
       "      <th>7</th>\n",
       "      <td>4.496320</td>\n",
       "      <td>X8</td>\n",
       "    </tr>\n",
       "  </tbody>\n",
       "</table>\n",
       "</div>"
      ],
      "text/plain": [
       "   VIF Factor features\n",
       "0  168.948751       X1\n",
       "1         inf       X2\n",
       "2         inf       X3\n",
       "3         inf       X4\n",
       "4  134.035782       X5\n",
       "5   10.796725       X6\n",
       "6    4.293656       X7\n",
       "7    4.496320       X8"
      ]
     },
     "execution_count": 260,
     "metadata": {},
     "output_type": "execute_result"
    }
   ],
   "source": [
    "from statsmodels.stats.outliers_influence import variance_inflation_factor\n",
    "# For each X, calculate VIF and save in dataframe\n",
    "vif = pd.DataFrame()\n",
    "vif[\"VIF Factor\"] = [variance_inflation_factor(X.values, i) for i in range(X.shape[1])]\n",
    "vif[\"features\"] = X.columns\n",
    "vif"
   ]
  },
  {
   "cell_type": "markdown",
   "metadata": {},
   "source": [
    "## Assumption 6: Residuals should be normally distributed."
   ]
  },
  {
   "cell_type": "code",
   "execution_count": 261,
   "metadata": {},
   "outputs": [
    {
     "data": {
      "text/plain": [
       "(array([ 16.,  21.,  55., 162., 201.,  89.,  39.,   4.,  11.,  16.]),\n",
       " array([-8.556104  , -6.5863053 , -4.61650659, -2.64670789, -0.67690918,\n",
       "         1.29288952,  3.26268823,  5.23248693,  7.20228563,  9.17208434,\n",
       "        11.14188304]),\n",
       " <a list of 10 Patch objects>)"
      ]
     },
     "execution_count": 261,
     "metadata": {},
     "output_type": "execute_result"
    },
    {
     "data": {
      "image/png": "[encoded data removed]",
      "text/plain": [
       "<matplotlib.figure.Figure at 0x1c22d7a9e8>"
      ]
     },
     "metadata": {},
     "output_type": "display_data"
    }
   ],
   "source": [
    "# error terms follow normal distribution\n",
    "plt.hist(residuals)"
   ]
  },
  {
   "cell_type": "code",
   "execution_count": 262,
   "metadata": {},
   "outputs": [
    {
     "data": {
      "text/plain": [
       "<matplotlib.axes._subplots.AxesSubplot at 0x1c2389e390>"
      ]
     },
     "execution_count": 262,
     "metadata": {},
     "output_type": "execute_result"
    },
    {
     "data": {
      "image/png": "[encoded data removed]",
      "text/plain": [
       "<matplotlib.figure.Figure at 0x1c23a18780>"
      ]
     },
     "metadata": {},
     "output_type": "display_data"
    }
   ],
   "source": [
    "# normality of residuals\n",
    "sns.kdeplot(np.array(residuals), bw=10)\n",
    "sns.distplot(np.array(residuals), hist=False)"
   ]
  },
  {
   "cell_type": "code",
   "execution_count": 263,
   "metadata": {},
   "outputs": [
    {
     "data": {
      "image/png": "[encoded data removed]",
      "text/plain": [
       "<matplotlib.figure.Figure at 0x1c23783e48>"
      ]
     },
     "execution_count": 263,
     "metadata": {},
     "output_type": "execute_result"
    },
    {
     "data": {
      "image/png": "[encoded data removed]",
      "text/plain": [
       "<matplotlib.figure.Figure at 0x1c23783e48>"
      ]
     },
     "metadata": {},
     "output_type": "display_data"
    }
   ],
   "source": [
    "# q-q plot\n",
    "import statsmodels.api as sm\n",
    "sm.qqplot(residuals)"
   ]
  },
  {
   "cell_type": "markdown",
   "metadata": {},
   "source": [
    "# Re-model after applying some feature engineering based on the outcome of the above assumption tests"
   ]
  },
  {
   "cell_type": "code",
   "execution_count": 226,
   "metadata": {},
   "outputs": [
    {
     "data": {
      "text/html": [
       "<table class=\"simpletable\">\n",
       "<caption>OLS Regression Results</caption>\n",
       "<tr>\n",
       "  <th>Dep. Variable:</th>           <td>Y2</td>        <th>  R-squared:         </th> <td>   0.985</td>\n",
       "</tr>\n",
       "<tr>\n",
       "  <th>Model:</th>                   <td>OLS</td>       <th>  Adj. R-squared:    </th> <td>   0.985</td>\n",
       "</tr>\n",
       "<tr>\n",
       "  <th>Method:</th>             <td>Least Squares</td>  <th>  F-statistic:       </th> <td>   5579.</td>\n",
       "</tr>\n",
       "<tr>\n",
       "  <th>Date:</th>             <td>Wed, 01 Aug 2018</td> <th>  Prob (F-statistic):</th>  <td>  0.00</td> \n",
       "</tr>\n",
       "<tr>\n",
       "  <th>Time:</th>                 <td>01:53:04</td>     <th>  Log-Likelihood:    </th> <td> -1601.1</td>\n",
       "</tr>\n",
       "<tr>\n",
       "  <th>No. Observations:</th>      <td>   614</td>      <th>  AIC:               </th> <td>   3216.</td>\n",
       "</tr>\n",
       "<tr>\n",
       "  <th>Df Residuals:</th>          <td>   607</td>      <th>  BIC:               </th> <td>   3247.</td>\n",
       "</tr>\n",
       "<tr>\n",
       "  <th>Df Model:</th>              <td>     7</td>      <th>                     </th>     <td> </td>   \n",
       "</tr>\n",
       "<tr>\n",
       "  <th>Covariance Type:</th>      <td>nonrobust</td>    <th>                     </th>     <td> </td>   \n",
       "</tr>\n",
       "</table>\n",
       "<table class=\"simpletable\">\n",
       "<tr>\n",
       "   <td></td>     <th>coef</th>     <th>std err</th>      <th>t</th>      <th>P>|t|</th>  <th>[0.025</th>    <th>0.975]</th>  \n",
       "</tr>\n",
       "<tr>\n",
       "  <th>X1</th> <td>  -19.8291</td> <td>    2.226</td> <td>   -8.910</td> <td> 0.000</td> <td>  -24.200</td> <td>  -15.458</td>\n",
       "</tr>\n",
       "<tr>\n",
       "  <th>X2</th> <td>    0.0024</td> <td>    0.002</td> <td>    1.513</td> <td> 0.131</td> <td>   -0.001</td> <td>    0.005</td>\n",
       "</tr>\n",
       "<tr>\n",
       "  <th>X3</th> <td>    0.0162</td> <td>    0.005</td> <td>    3.446</td> <td> 0.001</td> <td>    0.007</td> <td>    0.025</td>\n",
       "</tr>\n",
       "<tr>\n",
       "  <th>X4</th> <td>   -0.0069</td> <td>    0.003</td> <td>   -2.286</td> <td> 0.023</td> <td>   -0.013</td> <td>   -0.001</td>\n",
       "</tr>\n",
       "<tr>\n",
       "  <th>X5</th> <td>    5.7027</td> <td>    0.278</td> <td>   20.544</td> <td> 0.000</td> <td>    5.158</td> <td>    6.248</td>\n",
       "</tr>\n",
       "<tr>\n",
       "  <th>X6</th> <td>    0.1285</td> <td>    0.118</td> <td>    1.086</td> <td> 0.278</td> <td>   -0.104</td> <td>    0.361</td>\n",
       "</tr>\n",
       "<tr>\n",
       "  <th>X7</th> <td>   14.7726</td> <td>    1.023</td> <td>   14.441</td> <td> 0.000</td> <td>   12.764</td> <td>   16.782</td>\n",
       "</tr>\n",
       "<tr>\n",
       "  <th>X8</th> <td>    0.1234</td> <td>    0.087</td> <td>    1.417</td> <td> 0.157</td> <td>   -0.048</td> <td>    0.294</td>\n",
       "</tr>\n",
       "</table>\n",
       "<table class=\"simpletable\">\n",
       "<tr>\n",
       "  <th>Omnibus:</th>       <td>53.894</td> <th>  Durbin-Watson:     </th> <td>   2.065</td>\n",
       "</tr>\n",
       "<tr>\n",
       "  <th>Prob(Omnibus):</th> <td> 0.000</td> <th>  Jarque-Bera (JB):  </th> <td> 106.234</td>\n",
       "</tr>\n",
       "<tr>\n",
       "  <th>Skew:</th>          <td> 0.538</td> <th>  Prob(JB):          </th> <td>8.54e-24</td>\n",
       "</tr>\n",
       "<tr>\n",
       "  <th>Kurtosis:</th>      <td> 4.731</td> <th>  Cond. No.          </th> <td>5.62e+15</td>\n",
       "</tr>\n",
       "</table>"
      ],
      "text/plain": [
       "<class 'statsmodels.iolib.summary.Summary'>\n",
       "\"\"\"\n",
       "                            OLS Regression Results                            \n",
       "==============================================================================\n",
       "Dep. Variable:                     Y2   R-squared:                       0.985\n",
       "Model:                            OLS   Adj. R-squared:                  0.985\n",
       "Method:                 Least Squares   F-statistic:                     5579.\n",
       "Date:                Wed, 01 Aug 2018   Prob (F-statistic):               0.00\n",
       "Time:                        01:53:04   Log-Likelihood:                -1601.1\n",
       "No. Observations:                 614   AIC:                             3216.\n",
       "Df Residuals:                     607   BIC:                             3247.\n",
       "Df Model:                           7                                         \n",
       "Covariance Type:            nonrobust                                         \n",
       "==============================================================================\n",
       "                 coef    std err          t      P>|t|      [0.025      0.975]\n",
       "------------------------------------------------------------------------------\n",
       "X1           -19.8291      2.226     -8.910      0.000     -24.200     -15.458\n",
       "X2             0.0024      0.002      1.513      0.131      -0.001       0.005\n",
       "X3             0.0162      0.005      3.446      0.001       0.007       0.025\n",
       "X4            -0.0069      0.003     -2.286      0.023      -0.013      -0.001\n",
       "X5             5.7027      0.278     20.544      0.000       5.158       6.248\n",
       "X6             0.1285      0.118      1.086      0.278      -0.104       0.361\n",
       "X7            14.7726      1.023     14.441      0.000      12.764      16.782\n",
       "X8             0.1234      0.087      1.417      0.157      -0.048       0.294\n",
       "==============================================================================\n",
       "Omnibus:                       53.894   Durbin-Watson:                   2.065\n",
       "Prob(Omnibus):                  0.000   Jarque-Bera (JB):              106.234\n",
       "Skew:                           0.538   Prob(JB):                     8.54e-24\n",
       "Kurtosis:                       4.731   Cond. No.                     5.62e+15\n",
       "==============================================================================\n",
       "\n",
       "Warnings:\n",
       "[1] Standard Errors assume that the covariance matrix of the errors is correctly specified.\n",
       "[2] The smallest eigenvalue is 1.15e-23. This might indicate that there are\n",
       "strong multicollinearity problems or that the design matrix is singular.\n",
       "\"\"\""
      ]
     },
     "execution_count": 226,
     "metadata": {},
     "output_type": "execute_result"
    }
   ],
   "source": [
    "# Significance|Importance of the variables\n",
    "# calculate the p-value for each variable\n",
    "import statsmodels.api as sm\n",
    "from statsmodels.sandbox.regression.predstd import wls_prediction_std\n",
    "X = data.drop(['Y1','Y2'], axis=1)\n",
    "x_train,x_test,y2_train,y2_test = train_test_split(X,y2,test_size=0.2,random_state=4)\n",
    "model1=sm.OLS(y2_train,x_train)\n",
    "result=model1.fit()\n",
    "result.summary()"
   ]
  },
  {
   "cell_type": "code",
   "execution_count": 227,
   "metadata": {},
   "outputs": [
    {
     "data": {
      "text/plain": [
       "<matplotlib.axes._subplots.AxesSubplot at 0x1c227ba9b0>"
      ]
     },
     "execution_count": 227,
     "metadata": {},
     "output_type": "execute_result"
    },
    {
     "data": {
      "image/png": "[encoded data removed]",
      "text/plain": [
       "<matplotlib.figure.Figure at 0x1c22540278>"
      ]
     },
     "metadata": {},
     "output_type": "display_data"
    }
   ],
   "source": [
    "# Remove X2,X5 - fix multicollinearity\n",
    "# Remove X2,X6,X8 - basis the significance testing p-value=0.814 > 0.05\n",
    "X = X.drop(['X2','X3','X6'], axis=1)\n",
    "sns.heatmap(X.corr(),cmap='RdYlGn_r',vmax=1.0,vmin=-1.0,linewidths=2.5)"
   ]
  },
  {
   "cell_type": "code",
   "execution_count": 228,
   "metadata": {},
   "outputs": [
    {
     "data": {
      "text/html": [
       "<div>\n",
       "<style scoped>\n",
       "    .dataframe tbody tr th:only-of-type {\n",
       "        vertical-align: middle;\n",
       "    }\n",
       "\n",
       "    .dataframe tbody tr th {\n",
       "        vertical-align: top;\n",
       "    }\n",
       "\n",
       "    .dataframe thead th {\n",
       "        text-align: right;\n",
       "    }\n",
       "</style>\n",
       "<table border=\"1\" class=\"dataframe\">\n",
       "  <thead>\n",
       "    <tr style=\"text-align: right;\">\n",
       "      <th></th>\n",
       "      <th>VIF Factor</th>\n",
       "      <th>features</th>\n",
       "    </tr>\n",
       "  </thead>\n",
       "  <tbody>\n",
       "    <tr>\n",
       "      <th>0</th>\n",
       "      <td>124.903493</td>\n",
       "      <td>X1</td>\n",
       "    </tr>\n",
       "    <tr>\n",
       "      <th>1</th>\n",
       "      <td>22.016162</td>\n",
       "      <td>X4</td>\n",
       "    </tr>\n",
       "    <tr>\n",
       "      <th>2</th>\n",
       "      <td>58.410695</td>\n",
       "      <td>X5</td>\n",
       "    </tr>\n",
       "    <tr>\n",
       "      <th>3</th>\n",
       "      <td>4.288468</td>\n",
       "      <td>X7</td>\n",
       "    </tr>\n",
       "    <tr>\n",
       "      <th>4</th>\n",
       "      <td>4.490355</td>\n",
       "      <td>X8</td>\n",
       "    </tr>\n",
       "  </tbody>\n",
       "</table>\n",
       "</div>"
      ],
      "text/plain": [
       "   VIF Factor features\n",
       "0  124.903493       X1\n",
       "1   22.016162       X4\n",
       "2   58.410695       X5\n",
       "3    4.288468       X7\n",
       "4    4.490355       X8"
      ]
     },
     "execution_count": 228,
     "metadata": {},
     "output_type": "execute_result"
    }
   ],
   "source": [
    "# For each X, calculate VIF and save in dataframe\n",
    "vif = pd.DataFrame()\n",
    "vif[\"VIF Factor\"] = [variance_inflation_factor(X.values, i) for i in range(X.shape[1])]\n",
    "vif[\"features\"] = X.columns\n",
    "vif"
   ]
  },
  {
   "cell_type": "code",
   "execution_count": 229,
   "metadata": {},
   "outputs": [
    {
     "data": {
      "text/html": [
       "<div>\n",
       "<style scoped>\n",
       "    .dataframe tbody tr th:only-of-type {\n",
       "        vertical-align: middle;\n",
       "    }\n",
       "\n",
       "    .dataframe tbody tr th {\n",
       "        vertical-align: top;\n",
       "    }\n",
       "\n",
       "    .dataframe thead th {\n",
       "        text-align: right;\n",
       "    }\n",
       "</style>\n",
       "<table border=\"1\" class=\"dataframe\">\n",
       "  <thead>\n",
       "    <tr style=\"text-align: right;\">\n",
       "      <th></th>\n",
       "      <th>X1</th>\n",
       "      <th>X4</th>\n",
       "      <th>X5</th>\n",
       "      <th>X7</th>\n",
       "      <th>X8</th>\n",
       "    </tr>\n",
       "  </thead>\n",
       "  <tbody>\n",
       "    <tr>\n",
       "      <th>0</th>\n",
       "      <td>0.008871</td>\n",
       "      <td>0.997951</td>\n",
       "      <td>0.063362</td>\n",
       "      <td>0.0</td>\n",
       "      <td>0.0</td>\n",
       "    </tr>\n",
       "    <tr>\n",
       "      <th>1</th>\n",
       "      <td>0.008871</td>\n",
       "      <td>0.997951</td>\n",
       "      <td>0.063362</td>\n",
       "      <td>0.0</td>\n",
       "      <td>0.0</td>\n",
       "    </tr>\n",
       "    <tr>\n",
       "      <th>2</th>\n",
       "      <td>0.008871</td>\n",
       "      <td>0.997951</td>\n",
       "      <td>0.063362</td>\n",
       "      <td>0.0</td>\n",
       "      <td>0.0</td>\n",
       "    </tr>\n",
       "    <tr>\n",
       "      <th>3</th>\n",
       "      <td>0.008871</td>\n",
       "      <td>0.997951</td>\n",
       "      <td>0.063362</td>\n",
       "      <td>0.0</td>\n",
       "      <td>0.0</td>\n",
       "    </tr>\n",
       "    <tr>\n",
       "      <th>4</th>\n",
       "      <td>0.007335</td>\n",
       "      <td>0.998344</td>\n",
       "      <td>0.057048</td>\n",
       "      <td>0.0</td>\n",
       "      <td>0.0</td>\n",
       "    </tr>\n",
       "  </tbody>\n",
       "</table>\n",
       "</div>"
      ],
      "text/plain": [
       "         X1        X4        X5   X7   X8\n",
       "0  0.008871  0.997951  0.063362  0.0  0.0\n",
       "1  0.008871  0.997951  0.063362  0.0  0.0\n",
       "2  0.008871  0.997951  0.063362  0.0  0.0\n",
       "3  0.008871  0.997951  0.063362  0.0  0.0\n",
       "4  0.007335  0.998344  0.057048  0.0  0.0"
      ]
     },
     "execution_count": 229,
     "metadata": {},
     "output_type": "execute_result"
    }
   ],
   "source": [
    "# Normalize/Standardize the data attributes\n",
    "from sklearn import preprocessing\n",
    "normalized_X = preprocessing.normalize(X)\n",
    "# standardize the data attributes\n",
    "#standardized_X = preprocessing.scale(X)\n",
    "Xs=pd.DataFrame(normalized_X,columns=X.columns)\n",
    "Xs.head()"
   ]
  },
  {
   "cell_type": "code",
   "execution_count": 230,
   "metadata": {},
   "outputs": [],
   "source": [
    "x_train,x_test,y2_train,y2_test = train_test_split(Xs,y2,test_size=0.2,random_state=4)\n",
    "lm = LinearRegression()\n",
    "model = lm.fit(x_train,y2_train)"
   ]
  },
  {
   "cell_type": "code",
   "execution_count": 231,
   "metadata": {},
   "outputs": [
    {
     "data": {
      "text/plain": [
       "array([41.57583822, 14.96792199, 35.78689672, 41.45796724, 17.02465658])"
      ]
     },
     "execution_count": 231,
     "metadata": {},
     "output_type": "execute_result"
    }
   ],
   "source": [
    "predictions = lm.predict(x_train)\n",
    "predictions[0:5]"
   ]
  },
  {
   "cell_type": "code",
   "execution_count": 232,
   "metadata": {},
   "outputs": [
    {
     "data": {
      "text/html": [
       "<div>\n",
       "<style scoped>\n",
       "    .dataframe tbody tr th:only-of-type {\n",
       "        vertical-align: middle;\n",
       "    }\n",
       "\n",
       "    .dataframe tbody tr th {\n",
       "        vertical-align: top;\n",
       "    }\n",
       "\n",
       "    .dataframe thead th {\n",
       "        text-align: right;\n",
       "    }\n",
       "</style>\n",
       "<table border=\"1\" class=\"dataframe\">\n",
       "  <thead>\n",
       "    <tr style=\"text-align: right;\">\n",
       "      <th></th>\n",
       "      <th>X1</th>\n",
       "      <th>X4</th>\n",
       "      <th>X5</th>\n",
       "      <th>X7</th>\n",
       "      <th>X8</th>\n",
       "      <th>Y2</th>\n",
       "      <th>Y2_pred</th>\n",
       "    </tr>\n",
       "  </thead>\n",
       "  <tbody>\n",
       "    <tr>\n",
       "      <th>596</th>\n",
       "      <td>0.006193</td>\n",
       "      <td>0.998214</td>\n",
       "      <td>0.057041</td>\n",
       "      <td>0.003259</td>\n",
       "      <td>0.016297</td>\n",
       "      <td>39.48</td>\n",
       "      <td>41.575838</td>\n",
       "    </tr>\n",
       "    <tr>\n",
       "      <th>90</th>\n",
       "      <td>0.002902</td>\n",
       "      <td>0.999859</td>\n",
       "      <td>0.015871</td>\n",
       "      <td>0.000453</td>\n",
       "      <td>0.004535</td>\n",
       "      <td>19.34</td>\n",
       "      <td>14.967922</td>\n",
       "    </tr>\n",
       "    <tr>\n",
       "      <th>734</th>\n",
       "      <td>0.005569</td>\n",
       "      <td>0.998273</td>\n",
       "      <td>0.047537</td>\n",
       "      <td>0.002716</td>\n",
       "      <td>0.033955</td>\n",
       "      <td>33.84</td>\n",
       "      <td>35.786897</td>\n",
       "    </tr>\n",
       "    <tr>\n",
       "      <th>694</th>\n",
       "      <td>0.006191</td>\n",
       "      <td>0.997817</td>\n",
       "      <td>0.057018</td>\n",
       "      <td>0.003258</td>\n",
       "      <td>0.032582</td>\n",
       "      <td>39.85</td>\n",
       "      <td>41.457967</td>\n",
       "    </tr>\n",
       "    <tr>\n",
       "      <th>517</th>\n",
       "      <td>0.002992</td>\n",
       "      <td>0.999612</td>\n",
       "      <td>0.015867</td>\n",
       "      <td>0.001133</td>\n",
       "      <td>0.022667</td>\n",
       "      <td>16.03</td>\n",
       "      <td>17.024657</td>\n",
       "    </tr>\n",
       "  </tbody>\n",
       "</table>\n",
       "</div>"
      ],
      "text/plain": [
       "           X1        X4        X5        X7        X8     Y2    Y2_pred\n",
       "596  0.006193  0.998214  0.057041  0.003259  0.016297  39.48  41.575838\n",
       "90   0.002902  0.999859  0.015871  0.000453  0.004535  19.34  14.967922\n",
       "734  0.005569  0.998273  0.047537  0.002716  0.033955  33.84  35.786897\n",
       "694  0.006191  0.997817  0.057018  0.003258  0.032582  39.85  41.457967\n",
       "517  0.002992  0.999612  0.015867  0.001133  0.022667  16.03  17.024657"
      ]
     },
     "execution_count": 232,
     "metadata": {},
     "output_type": "execute_result"
    }
   ],
   "source": [
    "result = pd.concat([x_train, y2_train], axis=1)\n",
    "result = pd.concat([result,pd.DataFrame(predictions,index=result.index,columns=['Y2_pred'])],axis=1)\n",
    "result.head()"
   ]
  },
  {
   "cell_type": "code",
   "execution_count": 233,
   "metadata": {},
   "outputs": [
    {
     "name": "stdout",
     "output_type": "stream",
     "text": [
      "R-squared: 0.8890683229151062\n",
      "Adjusted R-squared: 0.888156055833816\n",
      "Coefficients: [-5093.05139657  5242.77599807  1066.68134448  2369.17319778\n",
      "   121.62889496]\n",
      "Intercept: -5230.845653796542\n",
      "Mean-Squared Error: 10.200221986901264\n",
      "Root Mean-Squared Error: 3.193778637742645\n"
     ]
    }
   ],
   "source": [
    "# R-square (Variance)\n",
    "R_sqr=lm.score(x_train,y2_train)\n",
    "#coefficients\n",
    "coefficients=lm.coef_\n",
    "#intercept\n",
    "intercept=lm.intercept_\n",
    "#Mean-squared error (MSE)\n",
    "mse=np.mean((predictions-y2_train)**2)\n",
    "#RMSE\n",
    "rmse=np.sqrt(mse)\n",
    "#Residuals\n",
    "residuals = y2_train-predictions\n",
    "#Adjusted R-square\n",
    "Adj_R_sqr = 1-(((1-R_sqr)*(x_train.shape[0]-1))/(x_train.shape[0]-x_train.columns.size-1))\n",
    "\n",
    "print('R-squared:',R_sqr)\n",
    "print('Adjusted R-squared:',Adj_R_sqr)\n",
    "print('Coefficients:',coefficients)\n",
    "print('Intercept:',intercept)\n",
    "print('Mean-Squared Error:',mse)\n",
    "print('Root Mean-Squared Error:',rmse)"
   ]
  },
  {
   "cell_type": "markdown",
   "metadata": {},
   "source": [
    "## Model Evaluations\n",
    "Original model before feature engineering:\n",
    "\n",
    "R-squared: 0.8859093726828331\n",
    "Adjusted R-squared: 0.8844007362885565\n",
    "Mean-Squared Error: 10.490689006435266\n",
    "Root Mean-Squared Error: 3.238933313057752\n",
    "\n",
    "Tried the model with different feature engineering:\n",
    "\n",
    "Case 1: After removing features basis importance (X2,X6,X8) and multicollinearity (X2,X5)\n",
    "\n",
    "R-squared: 0.864691072905265\n",
    "Adjusted R-squared: 0.863802344320078\n",
    "Mean-Squared Error: 12.441722053111203\n",
    "Root Mean-Squared Error: 3.527282530945204\n",
    "\n",
    "Case 2: After only applying normalization and keeping all features\n",
    "\n",
    "R-squared: 0.8849309576720789\n",
    "Adjusted R-squared: 0.8834093835586518\n",
    "Mean-Squared Error: 10.58065474541326\n",
    "Root Mean-Squared Error: 3.2527918386231325\n",
    "\n",
    "Case 3: After only applying standardization and keeping all features\n",
    "\n",
    "R-squared: 0.8859124156113801\n",
    "Adjusted R-squared: 0.8844038194541752\n",
    "Mean-Squared Error: 10.490409207666461\n",
    "Root Mean-Squared Error: 3.238890119727198\n",
    "\n",
    "Case 4: After removing features basis importance (X2,X6,X8)\n",
    "\n",
    "R-squared: 0.8853250312487326\n",
    "Adjusted R-squared: 0.8843819805188702\n",
    "Mean-Squared Error: 10.54441948721947\n",
    "Root Mean-Squared Error: 3.2472171912607677\n",
    "\n",
    "Case 5: After removing features basis multicollinearity (X2,X5)\n",
    "\n",
    "R-squared: 0.8653055389007006\n",
    "Adjusted R-squared: 0.863974127423607\n",
    "Mean-Squared Error: 12.385221604172296\n",
    "Root Mean-Squared Error: 3.519264355539705\n",
    "\n",
    "Case 6: After removing features basis importance (X2,X6,X8) and applying normalization\n",
    "\n",
    "R-squared: 0.8843300779835389\n",
    "Adjusted R-squared: 0.8833788450722193\n",
    "Mean-Squared Error: 10.63590592678536\n",
    "Root Mean-Squared Error: 3.261273666343467\n",
    "\n",
    "Case 7: After removing features basis importance (X2,X6,X8) and applying standardization\n",
    "\n",
    "R-squared: 0.8853250312487327\n",
    "Adjusted R-squared: 0.8843819805188704\n",
    "Mean-Squared Error: 10.544419487219452\n",
    "Root Mean-Squared Error: 3.247217191260765\n",
    "\n",
    "Case 8: After removing features basis importance (X2,X6,X8), features basis VIF(X5) and applying normalization\n",
    "\n",
    "R-squared: 0.7880723652774767\n",
    "Adjusted R-squared: 0.7866803939492499\n",
    "Mean-Squared Error: 19.486849709072256\n",
    "Root Mean-Squared Error: 4.414391204806417\n",
    "\n",
    "Case 9: After removing features basis importance (X2,X6,X8), features basis VIF(X5) and applying standardization\n",
    "\n",
    "R-squared: 0.8646910729052648\n",
    "Adjusted R-squared: 0.8638023443200777\n",
    "Mean-Squared Error: 12.44172205311125\n",
    "Root Mean-Squared Error: 3.5272825309452105\n",
    "\n",
    "Case 10: After removing features basis importance (X2,X6), features basis VIF(X3) and applying normalization\n",
    "\n",
    "R-squared: 0.8890683229151062\n",
    "Adjusted R-squared: 0.888156055833816\n",
    "Mean-Squared Error: 10.200221986901264\n",
    "Root Mean-Squared Error: 3.193778637742645"
   ]
  },
  {
   "cell_type": "markdown",
   "metadata": {},
   "source": [
    "We will keep the last model (Case 10) and use it for test set"
   ]
  },
  {
   "cell_type": "code",
   "execution_count": 234,
   "metadata": {},
   "outputs": [
    {
     "data": {
      "text/plain": [
       "<matplotlib.collections.PathCollection at 0x1c229112e8>"
      ]
     },
     "execution_count": 234,
     "metadata": {},
     "output_type": "execute_result"
    },
    {
     "data": {
      "image/png": "[encoded data removed]",
      "text/plain": [
       "<matplotlib.figure.Figure at 0x1c22690a90>"
      ]
     },
     "metadata": {},
     "output_type": "display_data"
    }
   ],
   "source": [
    "plt.scatter(predictions,residuals)"
   ]
  },
  {
   "cell_type": "code",
   "execution_count": 236,
   "metadata": {},
   "outputs": [
    {
     "data": {
      "text/plain": [
       "<matplotlib.collections.PathCollection at 0x1c22a011d0>"
      ]
     },
     "execution_count": 236,
     "metadata": {},
     "output_type": "execute_result"
    },
    {
     "data": {
      "image/png": "[encoded data removed]",
      "text/plain": [
       "<matplotlib.figure.Figure at 0x1c22933518>"
      ]
     },
     "metadata": {},
     "output_type": "display_data"
    }
   ],
   "source": [
    "plt.scatter(predictions,y2_train)"
   ]
  },
  {
   "cell_type": "code",
   "execution_count": 237,
   "metadata": {},
   "outputs": [
    {
     "data": {
      "text/plain": [
       "array([32.96356409, 27.10405169, 15.357645  , 16.78472345, 16.57654565])"
      ]
     },
     "execution_count": 237,
     "metadata": {},
     "output_type": "execute_result"
    }
   ],
   "source": [
    "predictions = lm.predict(x_test)\n",
    "predictions[0:5]"
   ]
  },
  {
   "cell_type": "code",
   "execution_count": 238,
   "metadata": {},
   "outputs": [
    {
     "data": {
      "text/html": [
       "<div>\n",
       "<style scoped>\n",
       "    .dataframe tbody tr th:only-of-type {\n",
       "        vertical-align: middle;\n",
       "    }\n",
       "\n",
       "    .dataframe tbody tr th {\n",
       "        vertical-align: top;\n",
       "    }\n",
       "\n",
       "    .dataframe thead th {\n",
       "        text-align: right;\n",
       "    }\n",
       "</style>\n",
       "<table border=\"1\" class=\"dataframe\">\n",
       "  <thead>\n",
       "    <tr style=\"text-align: right;\">\n",
       "      <th></th>\n",
       "      <th>X1</th>\n",
       "      <th>X4</th>\n",
       "      <th>X5</th>\n",
       "      <th>X7</th>\n",
       "      <th>X8</th>\n",
       "      <th>Y2</th>\n",
       "      <th>Y2_pred</th>\n",
       "    </tr>\n",
       "  </thead>\n",
       "  <tbody>\n",
       "    <tr>\n",
       "      <th>390</th>\n",
       "      <td>0.007333</td>\n",
       "      <td>0.998044</td>\n",
       "      <td>0.057031</td>\n",
       "      <td>0.002037</td>\n",
       "      <td>0.024442</td>\n",
       "      <td>32.83</td>\n",
       "      <td>32.963564</td>\n",
       "    </tr>\n",
       "    <tr>\n",
       "      <th>146</th>\n",
       "      <td>0.008867</td>\n",
       "      <td>0.997583</td>\n",
       "      <td>0.063339</td>\n",
       "      <td>0.000905</td>\n",
       "      <td>0.027145</td>\n",
       "      <td>25.84</td>\n",
       "      <td>27.104052</td>\n",
       "    </tr>\n",
       "    <tr>\n",
       "      <th>136</th>\n",
       "      <td>0.002902</td>\n",
       "      <td>0.999829</td>\n",
       "      <td>0.015870</td>\n",
       "      <td>0.000453</td>\n",
       "      <td>0.009069</td>\n",
       "      <td>19.23</td>\n",
       "      <td>15.357645</td>\n",
       "    </tr>\n",
       "    <tr>\n",
       "      <th>420</th>\n",
       "      <td>0.002993</td>\n",
       "      <td>0.999776</td>\n",
       "      <td>0.015869</td>\n",
       "      <td>0.001134</td>\n",
       "      <td>0.013602</td>\n",
       "      <td>15.53</td>\n",
       "      <td>16.784723</td>\n",
       "    </tr>\n",
       "    <tr>\n",
       "      <th>328</th>\n",
       "      <td>0.002902</td>\n",
       "      <td>0.999859</td>\n",
       "      <td>0.015871</td>\n",
       "      <td>0.001134</td>\n",
       "      <td>0.004535</td>\n",
       "      <td>21.13</td>\n",
       "      <td>16.576546</td>\n",
       "    </tr>\n",
       "  </tbody>\n",
       "</table>\n",
       "</div>"
      ],
      "text/plain": [
       "           X1        X4        X5        X7        X8     Y2    Y2_pred\n",
       "390  0.007333  0.998044  0.057031  0.002037  0.024442  32.83  32.963564\n",
       "146  0.008867  0.997583  0.063339  0.000905  0.027145  25.84  27.104052\n",
       "136  0.002902  0.999829  0.015870  0.000453  0.009069  19.23  15.357645\n",
       "420  0.002993  0.999776  0.015869  0.001134  0.013602  15.53  16.784723\n",
       "328  0.002902  0.999859  0.015871  0.001134  0.004535  21.13  16.576546"
      ]
     },
     "execution_count": 238,
     "metadata": {},
     "output_type": "execute_result"
    }
   ],
   "source": [
    "result = pd.concat([x_test, y2_test], axis=1)\n",
    "result = pd.concat([result,pd.DataFrame(predictions,index=result.index,columns=['Y2_pred'])],axis=1)\n",
    "result.head()"
   ]
  },
  {
   "cell_type": "code",
   "execution_count": 239,
   "metadata": {},
   "outputs": [
    {
     "data": {
      "text/plain": [
       "<matplotlib.collections.PathCollection at 0x1c22bb1e48>"
      ]
     },
     "execution_count": 239,
     "metadata": {},
     "output_type": "execute_result"
    },
    {
     "data": {
      "image/png": "[encoded data removed]",
      "text/plain": [
       "<matplotlib.figure.Figure at 0x1c22a0a940>"
      ]
     },
     "metadata": {},
     "output_type": "display_data"
    }
   ],
   "source": [
    "plt.scatter(predictions,y2_test)"
   ]
  },
  {
   "cell_type": "code",
   "execution_count": 240,
   "metadata": {},
   "outputs": [
    {
     "data": {
      "text/plain": [
       "Text(0.5,1,'Residual errors')"
      ]
     },
     "execution_count": 240,
     "metadata": {},
     "output_type": "execute_result"
    },
    {
     "data": {
      "image/png": "[encoded data removed]",
      "text/plain": [
       "<matplotlib.figure.Figure at 0x1c22a23940>"
      ]
     },
     "metadata": {},
     "output_type": "display_data"
    }
   ],
   "source": [
    "# plot for residual error\n",
    " \n",
    "## setting plot style\n",
    "plt.style.use('fivethirtyeight')\n",
    " \n",
    "## plotting residual errors in training data\n",
    "plt.scatter(lm.predict(x_train), lm.predict(x_train) - y2_train,\n",
    "            color = \"green\", s = 10, label = 'Train data')\n",
    " \n",
    "## plotting residual errors in test data\n",
    "plt.scatter(lm.predict(x_test), lm.predict(x_test) - y2_test,\n",
    "            color = \"blue\", s = 10, label = 'Test data')\n",
    " \n",
    "## plotting line for zero residual error\n",
    "plt.hlines(y = 0, xmin = 0, xmax = 50, linewidth = 2)\n",
    " \n",
    "## plotting legend\n",
    "plt.legend(loc = 'upper right')\n",
    " \n",
    "## plot title\n",
    "plt.title(\"Residual errors\")"
   ]
  },
  {
   "cell_type": "code",
   "execution_count": null,
   "metadata": {},
   "outputs": [],
   "source": []
  }
 ],
 "metadata": {
  "kernelspec": {
   "display_name": "Python 3",
   "language": "python",
   "name": "python3"
  },
  "language_info": {
   "codemirror_mode": {
    "name": "ipython",
    "version": 3
   },
   "file_extension": ".py",
   "mimetype": "text/x-python",
   "name": "python",
   "nbconvert_exporter": "python",
   "pygments_lexer": "ipython3",
   "version": "3.6.4"
  }
 },
 "nbformat": 4,
 "nbformat_minor": 2
}
